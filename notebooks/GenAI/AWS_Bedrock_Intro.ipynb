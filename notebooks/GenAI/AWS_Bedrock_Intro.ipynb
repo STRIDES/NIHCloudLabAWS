{
 "cells": [
  {
   "cell_type": "markdown",
   "id": "d6e9d855-a08b-435a-9962-481255afae5e",
   "metadata": {},
   "source": [
    "# Introduction to Amazon Bedrock"
   ]
  },
  {
   "cell_type": "markdown",
   "metadata": {},
   "source": [
    "## Overview"
   ]
  },
  {
   "cell_type": "markdown",
   "id": "4cea2d5d-b5ea-4aae-a301-000ef63372cf",
   "metadata": {},
   "source": [
    "Amazon Bedrock is a fully managed service that allows a user to **interact with foundational models (FM)** on the console along with the capability to **fine tune custom models or continue pretraining** a model to better suit your use case. Other features that Bedrock provides are allowing users to set up data sources as **knowledge bases** allowing your model to output specific and relevant content from your data source. **Agents** work alongside knowledge bases to connect your model to data sources and create and communicate prompts and tasks to your model essentially using **Retrieval Augmented Generation (RAG)** to effectively utilize vector stores look at your data source and use that information to generate an output and supply the source of where your model collected the information. This service also allows you to **evaluate your model** based on accuracy, toxicity, and robustness. Evaluate other tasks as well like text summarization, question and answer, text classification, and open-ended text generation, and scores will be calculated automatically. "
   ]
  },
  {
   "cell_type": "markdown",
   "id": "7ade3ffe-d848-4d61-b051-cb2822c20d3f",
   "metadata": {},
   "source": [
    "You have the option to work with several foundation models from organizations like:\n",
    "- **AI21 Labs:** Text models only\n",
    "- **Amazon:** Text, embedding, image models\n",
    "- **Anthropic:** Text models only\n",
    "- **Cohere:** Text and embedding models\n",
    "- **Meta:** Text models only\n",
    "- **Stability AI:** Image models only"
   ]
  },
  {
   "cell_type": "markdown",
   "id": "0874e7fa-c7ab-46e5-9596-c29bd94a5f41",
   "metadata": {},
   "source": [
    "This tutorial focuses running Bedrock on the console. If you would like to run Bedrock through python you can use boto3 (more information [here](https://boto3.amazonaws.com/v1/documentation/api/latest/reference/services/bedrock.html).\n",
    "\n",
    "```\n",
    "import boto3\n",
    "\n",
    "client = boto3.client('bedrock')\n",
    "```\n",
    "\n",
    "If you'd like to use other models other than Claude that are listed in Jumpstart you can follow the [Pubmed_chatbot](Pubmed_chatbot.ipynb) tutorial."
   ]
  },
  {
   "cell_type": "markdown",
   "metadata": {},
   "source": [
    "## Learning Objectives\n",
    "+ Learn how to access, deploy, and interact with LLMs in Bedrock\n",
    "+ Learn the basics of RAG and query a model based on a vector store"
   ]
  },
  {
   "cell_type": "markdown",
   "metadata": {},
   "source": [
    "## Prerequisites\n",
    "Make sure you have access to SageMaker and Bedrock"
   ]
  },
  {
   "cell_type": "markdown",
   "id": "b8e67695-291c-40ef-bd69-038b91c6f1f0",
   "metadata": {},
   "source": [
    "## Accessing Models In Bedrock"
   ]
  },
  {
   "cell_type": "markdown",
   "id": "90e41846-5b61-4725-b117-48dbcaa06bf5",
   "metadata": {},
   "source": [
    "Enter **\"Bedrock\"** into the search bar and the first link should take you to the overview page, click **\"Get started\"** which should take you to the following page.\n",
    "\n",
    "The first thing we will need to do to use Bedrock's features is to deploy some models which can be easily done via the console. On the left side of your page find and click **Model access**."
   ]
  },
  {
   "cell_type": "markdown",
   "id": "ff743f28-d9d9-4ffc-91c8-52f6bb7bd45c",
   "metadata": {
    "tags": []
   },
   "source": [
    "![bedrock_overview](../../docs/images/bedrock_page.png)"
   ]
  },
  {
   "cell_type": "markdown",
   "id": "119296fc-50f3-403c-b37f-cba713aa67cc",
   "metadata": {},
   "source": [
    "This will take you to a page that lists all of the FM models Bedrock has accessible, some models like the Anthropic ones which presently require you to submit a use case which we will need to use agents and knowledge bases. Click **Manage model access** and check mark the models that you want to deploy for this tutorial. We will be deploying the following models:\n",
    "- Titan Text G1 - Express\n",
    "- Titan Image Generator G1\n",
    "- Titan Embeddings G1 - Text\n",
    "- Claude (need to submit a use case)\n",
    "\n",
    "You are only charged when you use the model unlike jumpstart where you deploy to an endpoint and are charged as long as its running. More detail can be found [here](https://aws.amazon.com/bedrock/pricing/)."
   ]
  },
  {
   "cell_type": "markdown",
   "id": "6ccad801-ab6d-4044-b8a5-b8691dddcd19",
   "metadata": {
    "tags": []
   },
   "source": [
    "![bedrock_models](../../docs/images/bedrock_model_access.png)"
   ]
  },
  {
   "cell_type": "markdown",
   "id": "94a773df-1c7b-46c1-8908-b62d4276c599",
   "metadata": {},
   "source": [
    "## Bedrock Playground"
   ]
  },
  {
   "cell_type": "markdown",
   "id": "bfd59990-e306-47e4-af28-b5bca1b74b4e",
   "metadata": {},
   "source": [
    "As was mentioned before Bedrock includes a playground where you can interact with text, chat, image models on the console. After gaining access to our models we can navigate to the **Chat playground** and try out our chatbot."
   ]
  },
  {
   "cell_type": "markdown",
   "id": "4ddc5d11-19b7-4ace-bcdf-98c47647c022",
   "metadata": {},
   "source": [
    "On this view we need to add which model will act as our chatbot. Click **Select model**."
   ]
  },
  {
   "cell_type": "markdown",
   "id": "8f8c3521-ca5a-4c74-bc44-6ee18261db97",
   "metadata": {},
   "source": [
    "![bedrock_chat_playground_1](../../docs/images/bedrock_chat_playground_1.png)"
   ]
  },
  {
   "cell_type": "markdown",
   "id": "38dfe1e6-9cf0-418c-b0d5-b61ccbaa66e5",
   "metadata": {},
   "source": [
    "Go to the category of the model you gained access to for, this example we selected Amazon because we are using the Titan Text G1 - Express model. "
   ]
  },
  {
   "cell_type": "markdown",
   "id": "51e613aa-de17-4344-91fe-e65497364a2d",
   "metadata": {},
   "source": [
    "![bedrock_chat_playground_2](../../docs/images/bedrock_chat_playground_2.png)"
   ]
  },
  {
   "cell_type": "markdown",
   "id": "f31ebe05-b4a7-4d4e-ad9d-9457be97685a",
   "metadata": {},
   "source": [
    "Within the prompt box we will enter the text below that instructs our bot to answer a question about the text we present it. You can also see we can change the temperature, top p, and other features of the model to gain better responses.\n",
    "\n",
    "- **Temperature:** Controls randomness, higher values increase diversity meaning a more unique response make the model to think harder. Must be a number from 0 to 1, 0 being less unique.\n",
    "- **Top_p (nucleus):** The cumulative probability cutoff for token selection. Lower values mean sampling from a smaller, more top-weighted nucleus. Must be a number from 0 to 1."
   ]
  },
  {
   "cell_type": "markdown",
   "id": "1210bcc7-7084-414e-bc67-ec5a712c54fa",
   "metadata": {},
   "source": [
    "![bedrock_chat_playground_4](../../docs/images/bedrock_chat_playground_4.png)"
   ]
  },
  {
   "cell_type": "markdown",
   "id": "c7063bb7-f8ef-44fc-b45f-6bcead0f6d91",
   "metadata": {},
   "source": [
    "Enter the following into the prompt:"
   ]
  },
  {
   "cell_type": "markdown",
   "id": "44aa23d6-02db-48c9-98a0-1cd344a45dcb",
   "metadata": {
    "tags": []
   },
   "source": [
    "```\n",
    "What does this article say about treatment for inflamed joints?\n",
    "The exposed position of this articulation, the thinness of the tissues surrounding, and the amount of labor performed by it, render it a very frequent seat of those diseases and deformities consequent upon injury. Inflammation of this joint is gener-ally more severe and disastrous than of most others, on account of its large size and the extent of the synovial sack involved in the disease. The well-known pathological fact, that inflammation of joints is always followed by reflex contraction of the muscles in its vicinity, is well exemplified in the knee by the strong contraction of the powerful flexors, bending the leg frequently to a right angle with the thigh. The injurious effect of pressure is also well shown, and the necessity for its removal as urgent as in hip-disease. Specific inflammations artf sometimes met with, but are not as frequent as generally supposed, most cases being traumatic in their origin. Yet inflammations occurring in constitutions either scrofulous or syphilitic, are more prone to suppuration and caries than when this element is absent. Notwithstanding the advantages of medical treatment, there are indications which must be overcome by mechanical means. They are not only necessary for subduing disease in its early developement, but are indispensable for the correction and prevention of deformities following in severe cases. Inflammation of this joint, even in its first stage, is always accompanied by contraction of the flexors, aggravating the pain and increasing the pressure, thereby either wholly preventing, or greatly retarding, spontaneous recovery. This contraction increases with the violence of the inflammation, and should be overcome by tenotomy of all the tendons offering resistance to the extension of the limb. If ether is administered, the particular tendons requiring division should be ascertained before anaesthesia is produced, as, when that stage is reached, the muscles become relaxed, and we may be at loss to determine where division is necessary. Special care must be taken to avoid wounding, the peroneal nerve, situated just internal to the biceps tendon. This tendon should be divided from without inwards, at the same time that extension is being made, the sheath and inner fibres of which will then be ruptured before the knife passes completely through, and all danger to the nerve avoided. The limb should then be placed upon an air-cushion, protected by oil-silk, in order that local dressings may be used without soiling the bedding. The relief of pressure in inflamed joints is the most important part of the treatment; the diseased surfaces must be separated to allow of recovery or to prevent unfavorable results. The means for accomplishing this desired end are strictly mechanical. Adhesive straps may be applied to the leg, below the knee, and the surfaces of the joints separated by making extension with the pulley and weight, as in adhesive strap dressing for fractures of the thigh. The limb may be placed in the horizontal position or upon an inclined plane, as circumstances may indicate. This treatment will be found to greatly relieve the pain and entirely remove the pressure. If it be adopted at the outset of the attack, the flexing of the limb will be prevented and division of the tendons rendered unnecessary. Should suppuration occur and the joint become greatly distended with pus, it should be carefully evacuated by means of a trochar, avoiding the admission of air into the synovial sack, and the extension persevered in. Moderate pressure upon the femoral artery is advised by good authority, as diminishing the flow of blood to the part, but it is difficult to maintain and frequently adds to the discomfort of the patient. The accompanying cuts represent an apparatus for making extension. It consists of a wooden socket, constructed to accurately fit the thigh and similar to those used for artificial legs, against this the counter-extension is made, and thus evenly distributed over the thigh and tuberosity of the ischium. A steel rod is attached to each side of the socket, reaching to within a few inches of the ankle, and the two rods are joined behind by a broad band of sheet-iron, which is moulded to fit the posterior part of the leg; on the front, and joining the sheet-iron band, is a strap which, being buckled, holds the leg firmly in the apparatus. It is applied as follows: Six adhesive straps are cut, two inches in width at the top and tapering to one at the bottom, and should be long enough to reach from about one inch below the knee to the ankle; they are then applied to the leg, as represented in the cut, and secured by a bandage; the socket is then placed upon the thigh, the strap at the bottom of the instrument buckled, and the lower ends of the adhesive plaster turned over the bottom of the instrument and also attached to buckles upon its sides. The amount of extension is regulated by the degree of tightness to which the straps are drawn. The figure upon the right represents the same apparatus, with the exception that the side rods are extended and fastened to the sole of the shoe, while the adhesive straps are also attached to the buckles upon the sides. This will allow the patient to walk about and bear all his weight upon the socket and not any upon the knee-joint. This modification renders it more applicable to the chronic inflammations, when we desire the patient to have out-door exercise, which he can enjoy with as much ease as the wearer of an artificial leg. The advantages gained by this mode of extension are, the large surface to which the counter-extending force is applied, its security, and the ease with which the patient can tolerate it. When the socket is well fitted, there is no tendency for the instrument to rotate or twist upon the leg. This same principle can be used in the construction of numerous instruments for the relief of deformities of the knee.\n",
    "```"
   ]
  },
  {
   "cell_type": "markdown",
   "id": "72db9566-f076-4c8a-8b56-8a98fc235651",
   "metadata": {},
   "source": [
    "The following is the response we received about what the article says about treatment for inflamed joints. Notice how we also configured our model on the right side to gain this response."
   ]
  },
  {
   "cell_type": "markdown",
   "id": "e85f8b7a-91be-4351-9efd-d7beb4638aaa",
   "metadata": {
    "tags": []
   },
   "source": [
    "![bedrock_chat_playground_3](../../docs/images/bedrock_chat_playground_3.png)"
   ]
  },
  {
   "cell_type": "markdown",
   "id": "63bae6a9-51f8-48b4-873c-363b03c5ac8e",
   "metadata": {},
   "source": [
    "## Bedrock Knowledge Bases"
   ]
  },
  {
   "cell_type": "markdown",
   "id": "0d0265f8-db87-4c71-92f8-7b615b8eb4a1",
   "metadata": {},
   "source": [
    "Knowledge bases are vector stores that implement a process called **Retrieval-Augmented Generation (RAG)**, which is a technique that allows our model to only search and retrieve information from the data source we supply it. For this tutorial we will be feeding articles from PubMed to our model to summarize and answer questions about."
   ]
  },
  {
   "cell_type": "markdown",
   "id": "cbfa26ea-7cee-4a18-997b-86d6e052a49e",
   "metadata": {},
   "source": [
    "### Load in data\n",
    "\n",
    "Below, we create a bucket to store our articles, then copy the metadata from the PubMed bucket and parse the metadata to list the path of the first 100 articles within that bucket. The last step will be to copy those articles to our bucket. We subset the data in this way to keep the tutorial from being too long, and to deal with token limits of the LLMs."
   ]
  },
  {
   "cell_type": "code",
   "execution_count": null,
   "id": "b6bc22a5-f0be-4ca5-9f98-bc665ac6674e",
   "metadata": {},
   "outputs": [],
   "source": [
    "#make bucket, dont forget to add your own bucket name\n",
    "bucket = 'pubmed-chat-docs'\n",
    "! aws s3 mb s3://{bucket}\n"
   ]
  },
  {
   "cell_type": "code",
   "execution_count": null,
   "id": "cbfffd09-7983-419b-a081-7f1cd7e98736",
   "metadata": {
    "tags": []
   },
   "outputs": [],
   "source": [
    "#download the metadata file\n",
    "! aws s3 cp s3://pmc-oa-opendata/oa_comm/txt/metadata/txt/oa_comm.filelist.txt . --sse"
   ]
  },
  {
   "cell_type": "code",
   "execution_count": null,
   "id": "805875c4-6178-482b-98a5-803c7e35ea14",
   "metadata": {},
   "outputs": [],
   "source": [
    "#import the file as a dataframe\n",
    "import pandas as pd\n",
    "import os\n",
    "df = pd.read_csv('oa_comm.filelist.csv')\n",
    "#first 100 files\n",
    "first_100=df[0:100]\n",
    "#save new metadata\n",
    "first_100.to_csv('oa_comm.filelist_100.csv', index=False)"
   ]
  },
  {
   "cell_type": "code",
   "execution_count": null,
   "id": "8eeb0d46-a447-442b-9670-0938b1df64e7",
   "metadata": {},
   "outputs": [],
   "source": [
    "import os\n",
    "#gather path to files in bucket\n",
    "for i in first_100['Key']:\n",
    "    os.system(f'aws s3 cp s3://pmc-oa-opendata/{i} s3://{bucket}/docs/ --sse')"
   ]
  },
  {
   "cell_type": "markdown",
   "id": "6f6d53a7-a2a9-42c5-b32b-f7326cb26c63",
   "metadata": {},
   "source": [
    "### Create a Knowledge Base"
   ]
  },
  {
   "cell_type": "markdown",
   "id": "b94e5813-8707-46f0-abe8-5ef60ab4c177",
   "metadata": {},
   "source": [
    "Going back to Amazon Bedrock we will first click on **Create Knowledge base**."
   ]
  },
  {
   "cell_type": "markdown",
   "id": "c0d2ee51-dbb4-4e75-8e6e-10230d873b20",
   "metadata": {
    "tags": []
   },
   "source": [
    "![bedrock_knowledgebase_1](../../docs/images/bedrock_knowledgebase_1.png)"
   ]
  },
  {
   "cell_type": "markdown",
   "id": "28fb0bf1-0882-4812-858e-85475b805605",
   "metadata": {},
   "source": [
    "Next we will give our knowledge base a name, in this example we have called it `pubmed-knowledge-base` and we have opted to create a new service role."
   ]
  },
  {
   "cell_type": "markdown",
   "id": "c4a53f7b-da0f-4ef1-bc78-fed8f411fb7c",
   "metadata": {},
   "source": [
    "![bedrock_knowledgebase_2](../../docs/images/bedrock_knowledgebase_2.png)"
   ]
  },
  {
   "cell_type": "markdown",
   "id": "6e26b3bf-fb0f-41a0-8cf3-1235055c163a",
   "metadata": {},
   "source": [
    "Now we can connect our Knowledge base with our data source! Here we are giving the data source a name then we are adding the location of our articles in our bucket. For this tutorial we named our data source `pubmed-knowledge-base-data-source`."
   ]
  },
  {
   "cell_type": "markdown",
   "id": "b815514d-d9a6-4a2b-b46e-b8b928451138",
   "metadata": {},
   "source": [
    "![bedrock_knowledgebase_3](../../docs/images/bedrock_knowledgebase_3.png)"
   ]
  },
  {
   "cell_type": "markdown",
   "id": "d6807062-eaba-4192-b136-4f75f0ac2673",
   "metadata": {},
   "source": [
    "Now that we have a data source, the next step in RAG is to index documents by first loading them in, splitting them into chucks (making it easier for our model to search for relevant splits), embedding the chunks, then storing them in our vector store (aka Knowledge base). Though the steps below dont fully show this process this is what is happening under the hood.\n",
    "\n",
    "You'll see that we needed to use an embedding model in this step called **Titan Embeddings G1 - Text** this model have a very specific function: it takes text and transforms it into numerical values based on degree of similarity. This is how our model will quickly understand which pieces of information it should look for to answer our questions."
   ]
  },
  {
   "cell_type": "markdown",
   "id": "4a2106fd-e627-4620-8438-9cb4fcf04105",
   "metadata": {},
   "source": [
    "![bedrock_knowledgebase_4](../../docs/images/bedrock_knowledgebase_4.png)"
   ]
  },
  {
   "cell_type": "markdown",
   "id": "65efaa9f-da4e-4853-911c-2b5e9066ecf7",
   "metadata": {},
   "source": [
    "We have successfully made a Knowledge base, allow ~10 min for it to be provisioned."
   ]
  },
  {
   "cell_type": "markdown",
   "id": "68c5e7e8-1247-4f09-8376-8ac4d156873e",
   "metadata": {},
   "source": [
    "![bedrock_knowledgebase_5](../../docs/images/bedrock_knowledgebase_5.png)"
   ]
  },
  {
   "cell_type": "markdown",
   "id": "d235e0cc-b524-463a-9265-b67031439c5a",
   "metadata": {},
   "source": [
    "Once the Knowledge base has been made, you should see a similar screen to the one below. Now we will sync our data source with our Knowledge base, which is great for if we add new files to our bucket. Click **Sync data source**."
   ]
  },
  {
   "cell_type": "markdown",
   "id": "0ff48cf0-a8ec-4e8a-8e0c-a738c3b0eb8d",
   "metadata": {
    "tags": []
   },
   "source": [
    "![bedrock_knowledgebase_6](../../docs/images/bedrock_knowledgebase_6.png)"
   ]
  },
  {
   "cell_type": "markdown",
   "id": "1b9e4e3c-fb8c-478e-83a1-5b406532523f",
   "metadata": {
    "tags": []
   },
   "source": [
    "Next click **Select model** to connect a model to our Knowledge base, as of now you can only use the Claude model. Select which version of the Claude model you will want to use, for this tutorial we selected **Claude 2.1**, then select **Apply**."
   ]
  },
  {
   "cell_type": "markdown",
   "id": "cda72990-bf03-49c8-8520-44f83ff83652",
   "metadata": {},
   "source": [
    "![bedrock_knowledgebase_7](../../docs/images/bedrock_knowledgebase_7.png)"
   ]
  },
  {
   "cell_type": "markdown",
   "id": "ebdda367-8792-47b2-933c-417019226678",
   "metadata": {},
   "source": [
    "Now we can asks our model questions about the articles we provided it. See where we have asked *what is brain cancer*?"
   ]
  },
  {
   "cell_type": "markdown",
   "id": "2d672fa0-4ecc-48df-afea-1e657e04bc2c",
   "metadata": {},
   "source": [
    "![bedrock_knowledgebase_8](../../docs/images/bedrock_knowledgebase_8.png)"
   ]
  },
  {
   "cell_type": "markdown",
   "id": "370a0a4c-37dc-475f-9774-3318b2f3ff3d",
   "metadata": {},
   "source": [
    "Or a more insightful question could be *What types of brain cancer are there in the articles I provided?* You can see the models response in purple."
   ]
  },
  {
   "cell_type": "markdown",
   "id": "5e398278-0ce3-4b26-b48e-fea1d947058d",
   "metadata": {},
   "source": [
    "![bedrock_knowledgebase_9](../../docs/images/bedrock_knowledgebase_9.png)"
   ]
  },
  {
   "cell_type": "markdown",
   "id": "65fce340-3605-4703-b0ac-8a741c48bd93",
   "metadata": {},
   "source": [
    "We can also see more details about the response when we click **show result details**, like which articles did the model create the response from."
   ]
  },
  {
   "cell_type": "markdown",
   "id": "2c29c470-0870-4ff8-b1c3-3f0a6c812e24",
   "metadata": {},
   "source": [
    "![bedrock_knowledgebase_10](../../docs/images/bedrock_knowledgebase_10.png)"
   ]
  },
  {
   "cell_type": "markdown",
   "id": "dfe7660d-42dd-49be-b6ce-1b203946a487",
   "metadata": {},
   "source": [
    "## Bedrock Agents"
   ]
  },
  {
   "cell_type": "markdown",
   "id": "897e2470-a36e-4ac2-a1b9-cb186b151d7c",
   "metadata": {},
   "source": [
    "Bedrock Agents works with Knowledge bases to supply the model with prompts or instructions which help configure the model's responses. Here we are providing our agent a name and we are allowing the agent to send questions to us through the model if it needs more information to answer our question."
   ]
  },
  {
   "cell_type": "markdown",
   "id": "5e0e8aa3-84db-40a8-9b62-579b3d01a8e5",
   "metadata": {},
   "source": [
    "![bedrock_agents_1](../../docs/images/bedrock_agents_1.png)"
   ]
  },
  {
   "cell_type": "markdown",
   "id": "e4bbb431-0e7b-4441-a0eb-f2623e493951",
   "metadata": {},
   "source": [
    "Here we are selecting to create a new service role for our agent and indicating that our session will timeout after 30 min of inactivity. This will help save on costs."
   ]
  },
  {
   "cell_type": "markdown",
   "id": "01633367-7cbe-4205-954c-3e7577fa2fe4",
   "metadata": {},
   "source": [
    "![bedrock_agents_2](../../docs/images/bedrock_agents_2.png)"
   ]
  },
  {
   "cell_type": "markdown",
   "id": "a8db8343-94ad-404c-8e59-1965d88200fa",
   "metadata": {},
   "source": [
    "We will select the same model we used before, Claude V2. The instructions we have for our model is to act as a chatbot and a summarizer retrieving information only from the articles we provided."
   ]
  },
  {
   "cell_type": "markdown",
   "id": "1d1c6314-09ab-437e-b4ea-7d409d136094",
   "metadata": {},
   "source": [
    "![bedrock_agents_3](../../docs/images/bedrock_agents_3.png)"
   ]
  },
  {
   "cell_type": "markdown",
   "id": "63ccd839-cafc-4c0d-8439-d61207ec0a9d",
   "metadata": {},
   "source": [
    "We won't be creating any action groups and skipping to **Add Knowledge base**. Select the knowledge base that we made before and specify what instrcution you have for the knowledge base. Here our instructions are to summarize the articles."
   ]
  },
  {
   "cell_type": "markdown",
   "id": "af4b2535-cca3-4068-9b80-3fbdd17a5b6b",
   "metadata": {},
   "source": [
    "![bedrock_agents_4](../../docs/images/bedrock_agents_4.png)"
   ]
  },
  {
   "cell_type": "markdown",
   "id": "4890a6c0-2f82-4df7-91d9-180817ca6d13",
   "metadata": {},
   "source": [
    "Now that our agent is set up we can ask the same model questions about our articles!"
   ]
  },
  {
   "cell_type": "markdown",
   "id": "3a178345-22b5-446c-8e04-ad9e50584b54",
   "metadata": {},
   "source": [
    "![bedrock_agents_5](../../docs/images/bedrock_agents_5.png)"
   ]
  },
  {
   "cell_type": "markdown",
   "id": "7d256db6-b64f-41b0-87b2-dcf871b8dc8b",
   "metadata": {},
   "source": [
    "We will be asking the same question we asked before (*What types of brain cancer are there in the articles I provided?*) and you can see that we receive a more detailed response."
   ]
  },
  {
   "cell_type": "markdown",
   "id": "4f7840b2-0fcc-4bfe-8f0a-f253b64f9f7d",
   "metadata": {},
   "source": [
    "![bedrock_agents_6](../../docs/images/bedrock_agents_6.png)"
   ]
  },
  {
   "cell_type": "markdown",
   "id": "f488bc11-367e-4a51-b4b1-2188194ff824",
   "metadata": {},
   "source": [
    "Clicking on **Show trace** will show us how and where the model retrieved this information."
   ]
  },
  {
   "cell_type": "markdown",
   "id": "6a184afa-7f06-4439-bd7e-5a8e7d5c9395",
   "metadata": {},
   "source": [
    "![bedrock_agents_7](../../docs/images/bedrock_agents_7.png)"
   ]
  },
  {
   "cell_type": "markdown",
   "metadata": {},
   "source": [
    "## Conclusions\n",
    "Hurray, we deployed a fully functional model through the Amazon Bedrock console! Here we learned about using the Bedrock interface, interacting with the models, and the basics of RAG."
   ]
  },
  {
   "cell_type": "markdown",
   "metadata": {},
   "source": [
    "## Clean Up\n",
    "If you deployed any models to endpoints you can delete those."
   ]
  }
 ],
 "metadata": {
  "kernelspec": {
   "display_name": "conda_python3",
   "language": "python",
   "name": "conda_python3"
  },
  "language_info": {
   "codemirror_mode": {
    "name": "ipython",
    "version": 3
   },
   "file_extension": ".py",
   "mimetype": "text/x-python",
   "name": "python",
   "nbconvert_exporter": "python",
   "pygments_lexer": "ipython3",
   "version": "3.10.13"
  }
 },
 "nbformat": 4,
 "nbformat_minor": 5
}
