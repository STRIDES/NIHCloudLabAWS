{
 "cells": [
  {
   "cell_type": "code",
   "execution_count": null,
   "id": "bed9c0c9-4756-4161-b4be-e32ce3a58bff",
   "metadata": {},
   "outputs": [],
   "source": [
    "#Cell 1\n",
    "#import libraries\n",
    "\n",
    "import pandas as pd\n",
    "import numpy as np"
   ]
  },
  {
   "cell_type": "code",
   "execution_count": null,
   "id": "64f8d006-28f3-4d83-ae3a-9e23cccff5d7",
   "metadata": {},
   "outputs": [],
   "source": [
    "#Cell 2\n",
    "\n",
    "# Initialize data of lists\n",
    "data = {\n",
    "    'Gene': ['GeneA', 'GeneB', 'GeneC', 'GeneD'],\n",
    "    'Expression_Level': [12.5, 8.3, 15.2, 7.8],\n",
    "    'Sample_ID': ['S1', 'S2', 'S3', 'S4'],\n",
    "    'Condition': ['Control', 'Treated', 'Control', 'Treated']\n",
    "}\n",
    "\n",
    "# Create DataFrame\n",
    "df = pd.DataFrame(data)\n",
    "\n",
    "# Display the DataFrame\n",
    "print(df)"
   ]
  },
  {
   "cell_type": "code",
   "execution_count": null,
   "id": "8ca19300-1635-4a8a-9ef8-f9554bc1baac",
   "metadata": {},
   "outputs": [],
   "source": [
    "#Cell 3\n",
    "\n",
    "# Error debugging test /fix\n",
    "# View summary statistics\n",
    "describe().df"
   ]
  },
  {
   "cell_type": "code",
   "execution_count": null,
   "id": "550a402e-66bd-4890-a063-e3d82679c0a8",
   "metadata": {},
   "outputs": [],
   "source": [
    "#Cell 4\n",
    "\n",
    "# Optimize selection test /optimize\n",
    "# Add additional data to the dataframe\n",
    "df['Sample_Type'] = ['Tissue1', 'Tissue2', 'Tissue1', 'Tissue2']\n",
    "df['P_Value'] = [0.05, 0.01, 0.03, 0.07]"
   ]
  },
  {
   "cell_type": "code",
   "execution_count": null,
   "id": "0d45c1aa-2075-4c8a-9ecc-94fb03a71f78",
   "metadata": {},
   "outputs": [],
   "source": [
    "#Cell 5\n",
    "\n",
    "#Explain selection test /explain\n",
    "#Plot results\n",
    "import matplotlib.pyplot as plt\n",
    "\n",
    "df.plot(x='Sample_ID', y='Expression_Level', kind='line')\n",
    "plt.show()"
   ]
  }
 ],
 "metadata": {},
 "nbformat": 4,
 "nbformat_minor": 5
}
