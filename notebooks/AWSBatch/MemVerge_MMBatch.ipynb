{
 "cells": [
  {
   "cell_type": "markdown",
   "id": "6ba1091e-c659-4829-9798-f1ff20964fa8",
   "metadata": {},
   "source": [
    "##### __Skill Level:__ <span style=\"color:blue\">Intermediate</span>"
   ]
  },
  {
   "cell_type": "markdown",
   "id": "f3ea6079-3d4a-438f-a19c-2e93f4d518a2",
   "metadata": {},
   "source": [
    "# Intro to MMBatch AWS"
   ]
  },
  {
   "cell_type": "markdown",
   "id": "f6b47778-5e2d-4404-94c8-af221449a3a5",
   "metadata": {},
   "source": [
    "## Overview"
   ]
  },
  {
   "cell_type": "markdown",
   "id": "e523fda8-6fbe-493e-a707-b8df7b7aea75",
   "metadata": {},
   "source": [
    "Memory Machine Batch or MMBatch is a software platform that helps users manage cloud resources, deploy applications, and run workloads using AWS Batch. Created by the company MemVerge, MMBatch uses persistent memory to create a large, fast, and persistent memory pool that acts as an extension of a computer's main memory. This accelerates the run time of applications and workflows and is cost effective.\n",
    "\n",
    "For this tutorial we will run a Nextflow pipeline and compare the cost and run time results using MMBatch."
   ]
  },
  {
   "cell_type": "markdown",
   "id": "d5806019-d2b2-408a-8c4b-460f2cea38f9",
   "metadata": {},
   "source": [
    "## Prerequisites"
   ]
  },
  {
   "cell_type": "markdown",
   "id": "4468a12f-881b-45dd-9ba9-503a4ff8c2e0",
   "metadata": {},
   "source": [
    "For this tutorial please have already created the following:\n",
    "- VPC\n",
    "- Atleast 2 subnets in us-east-1a to us-east-1d\n",
    "- EC2 instance Key Pairs .pem file\n",
    "- NIH Users please keep your VPN on for the remainder of the tutorial\n",
    "\n",
    "If you have not already create a key pair follow the instructions listed here:\n",
    "- Type 'EC2' in the browser \n",
    "- On the left side menu under ** Network & Security** go to **Key Pairs**\n",
    "- Click **Create key pair**\n",
    "- Give your key pair a name\n",
    "- Select **RSA** as the key pair type\n",
    "- Select **.pem** as the Private key file format\n",
    "- At the bottom of the screen click **Create key pair** "
   ]
  },
  {
   "cell_type": "markdown",
   "id": "97b5310e-6a32-4284-aec0-d4fe77847df6",
   "metadata": {},
   "source": [
    "## Learning objectives"
   ]
  },
  {
   "cell_type": "markdown",
   "id": "ef2993e1-5612-4bf9-afbd-96f8e2b6e1ad",
   "metadata": {},
   "source": [
    "In this tutorial you will learn to:\n",
    "- Subscribe to MMBatch\n",
    "- Launch a Cloud Formation stack \n",
    "- Access the MMBatch head node and dashboard\n",
    "- Submit jobs to MMBatch using Nexflow"
   ]
  },
  {
   "cell_type": "markdown",
   "id": "85f3cd39-a4d1-4a8c-acfd-96ba2b0195c5",
   "metadata": {},
   "source": [
    "## Pricing"
   ]
  },
  {
   "cell_type": "markdown",
   "id": "6be0b778-3152-4f55-8ff0-62215ad9bcfc",
   "metadata": {},
   "source": [
    "If you are following this tutorial in one sitting it will cost ~$1. Completing the process in multiple sessions or using a method different from the tutorial may result in increased costs."
   ]
  },
  {
   "cell_type": "markdown",
   "id": "5a7cd3fc-108c-46d4-b0b8-1a08f338cf67",
   "metadata": {},
   "source": [
    "## Get started"
   ]
  },
  {
   "cell_type": "markdown",
   "id": "1f7f560c-66f0-46a2-a2db-2c07156360a6",
   "metadata": {},
   "source": [
    "### Subscribe to MMBatch"
   ]
  },
  {
   "cell_type": "markdown",
   "id": "1695b6e2-23e0-406c-af05-2bcf5491ceed",
   "metadata": {},
   "source": [
    "Inorder to use MMBatch we first need to purchase the license. You can do this by navigating to the AWS Marketplace within the AWS console. In the AWS Marketplace search and select **'Memory Machine Batch'**. Select your region then click **'Continue to Subscribe'**."
   ]
  },
  {
   "cell_type": "markdown",
   "id": "802e24b1-dd75-4c92-8f54-7be77b0fd138",
   "metadata": {},
   "source": [
    "![MemVerge0_mmb1](../../docs/images/memverge_mmb1.png)"
   ]
  },
  {
   "cell_type": "markdown",
   "id": "b8b1edeb-4f14-4278-952c-6e0dbd351199",
   "metadata": {},
   "source": [
    "![MemVerge0_mmb2](../../docs/images/memverge_mmb2.png)"
   ]
  },
  {
   "cell_type": "markdown",
   "id": "ec4595e9-857f-4104-8c3b-cee20ca12cff",
   "metadata": {},
   "source": [
    "Select the duration of the contract that you would like to subscribe to. Select if you would like this contract to be automatically renewed.\n",
    "\n",
    "**Note:** NIH Cloud Lab users will select **'1 month'** and **'Do not automatically renew this contract'** for their 90 day temporary accounts"
   ]
  },
  {
   "cell_type": "markdown",
   "id": "6cc79c0e-32f0-4a26-985e-68549ee176f6",
   "metadata": {},
   "source": [
    "![MemVerge0_mmb3](../../docs/images/memverge_mmb3.png)"
   ]
  },
  {
   "cell_type": "markdown",
   "id": "d1da4aa8-92b0-49e5-ac0e-3d80524e1d99",
   "metadata": {},
   "source": [
    "Select the MemVerge saving unit which will cost $1."
   ]
  },
  {
   "cell_type": "markdown",
   "id": "282d84a3-0a44-4feb-a95c-fdf82d4bca67",
   "metadata": {},
   "source": [
    "![MemVerge0_mmb4](../../docs/images/memverge_mmb4.png)"
   ]
  },
  {
   "cell_type": "markdown",
   "id": "16a2dca9-eb73-4b6c-8583-2f303de4f779",
   "metadata": {},
   "source": [
    "Click **'Subscribe'**!"
   ]
  },
  {
   "cell_type": "markdown",
   "id": "2f0d9d9d-7997-44e1-8f76-2be51d779b5f",
   "metadata": {},
   "source": [
    "While your subscription is in progress click the link to the vendor website (aka MemVerge) to complete your registration for MMBatch."
   ]
  },
  {
   "cell_type": "markdown",
   "id": "c80fdb36-3053-40cc-9cee-22a6e06c31da",
   "metadata": {},
   "source": [
    "![MemVerge0_mmb6](../../docs/images/memverge_mmb6.png)"
   ]
  },
  {
   "cell_type": "markdown",
   "id": "eed6dba6-9c10-4031-8007-fdc6fa1bb820",
   "metadata": {},
   "source": [
    "After clicking the link you will be taken to a form enter in your :\n",
    "- Company name\n",
    "- Name\n",
    "- Phone number\n",
    "- Email Address that is <ins>associated with your AWS account</ins>"
   ]
  },
  {
   "cell_type": "markdown",
   "id": "e947baaa-b11f-479e-89ef-54db7d15107e",
   "metadata": {},
   "source": [
    "![MemVerge0_mmb7](../../docs/images/memverge_mmb7.png)"
   ]
  },
  {
   "cell_type": "markdown",
   "id": "acfccfa1-eb53-4434-8ab9-a5fed71b91c0",
   "metadata": {},
   "source": [
    "Once you have filled the form MemVerge will email you parameters and documentation to set up MMBatch."
   ]
  },
  {
   "cell_type": "markdown",
   "id": "999814c6-c4b7-4b71-885d-66830b4d47c8",
   "metadata": {},
   "source": [
    "### Launching MMBatch"
   ]
  },
  {
   "cell_type": "markdown",
   "id": "ec9450b1-3d7f-4c2e-8924-81befc2283d3",
   "metadata": {},
   "source": [
    "MemVerge will send you parameters including AMIId, Standalone AMIId, and a YAML file that you will need to launch a CloudFormation Stack to launch MMBatch and the MMBatch Dashboard."
   ]
  },
  {
   "cell_type": "markdown",
   "id": "bf9b50f9-c81e-49e6-9cd9-0c6953ddf488",
   "metadata": {},
   "source": [
    "To launch a Cloud Formation stack naviagate to the 'Cloud Formation' in the AWS console. Click 'Create stack', in the drop down menu select 'With new resources'.\n",
    "\n",
    "Under Prerequisite select 'Choose an exisiting template'. Under 'Specifiy Template' select 'Amazon S3 URL' and add the YAML file URL you were supplied by MemVerge. Click 'Next'."
   ]
  },
  {
   "cell_type": "markdown",
   "id": "adffb4c2-e87e-4ff2-a5f5-a76c83781b78",
   "metadata": {},
   "source": [
    "![MemVerge0_mmb8](../../docs/images/memverge_mmb8.png)"
   ]
  },
  {
   "cell_type": "markdown",
   "id": "6da7a6bd-434b-4653-9d4b-ffd7ab495e82",
   "metadata": {},
   "source": [
    "For stack details fillout the following fields:\n",
    "- **Stack name:** for this tutorial we have called our stack 'mm-eb-test'\n",
    "- **AMIId:** Enter the ID given to you by MemVerge\n",
    "- **KeyName:** Select your Instance Key Pair that you previously configured (see prerequisites)\n",
    "- **SecurityGroupId:** Select a Security Group\n",
    "- **StandaloneAMIId:** Enter the Standalone AMIId given to you by MemVerge\n",
    "- **SubnetId:** Select a subnet to launch your instance\n",
    "- **SubnetIds:** Select two subnets that are within us-east-1a to us-east-1d\n",
    "- **UniquePrefix:** Enter a prefix to label your MMBatch resources\n",
    "- **(NIH Users)UsePrivateIP:** Select True\n",
    "- **(NIH Users) VPCCIDR:** 10.0.0.0/8 (all other user may select any appropriate IP address)\n",
    "- **VPCID:** Select your VPC\n",
    "\n",
    "For this tutorial we kept all other fields to their default.\n",
    "\n",
    "Select 'Next'."
   ]
  },
  {
   "cell_type": "markdown",
   "id": "e8b53902-d3a5-4b5c-bd45-775eccb926a3",
   "metadata": {},
   "source": [
    "![MemVerge0_mmb9](../../docs/images/memverge_mmb9.png)"
   ]
  },
  {
   "cell_type": "markdown",
   "id": "a514a1c0-cef7-40d2-b1d0-6f0e01d3fdcc",
   "metadata": {},
   "source": [
    "For the next step we will configure the stack capabilities. For this tutorial we kept all field to their default. \n",
    "\n",
    "**Tip:** You can add a tag at this step to help track costs in AWS Billing by setting the Key to 'name' and the Value to any identifier you like.\n",
    "\n",
    "Be sure to check the 'Capabilities' at the bottom of the form. Click 'Next'"
   ]
  },
  {
   "cell_type": "markdown",
   "id": "d1f9fd83-651d-4f8f-96a2-69400fc5231a",
   "metadata": {},
   "source": [
    "![MemVerge0_mmb10](../../docs/images/memverge_mmb10.png)"
   ]
  },
  {
   "cell_type": "markdown",
   "id": "4e21627b-9687-4db1-817f-aa651a63b3e4",
   "metadata": {},
   "source": [
    "Review all the parameters set and then click 'Submit'. The stack may ~ 20 mins to complete. The stack will configure AWS batch with a compute environment and job queue. It will also create other resources like EC2 instances, S3 buckets, Memory DB clusters, IAM roles, and a security group."
   ]
  },
  {
   "cell_type": "markdown",
   "id": "e59c89c0-fd83-405b-a2f3-4970db12b8cb",
   "metadata": {},
   "source": [
    "### Accessing MMBatch Head Node"
   ]
  },
  {
   "cell_type": "markdown",
   "id": "82369fd1-f2cd-4a46-982c-b981c3e38a65",
   "metadata": {},
   "source": [
    "Once the stack is complete navigate to 'EC2' in the AWS console, there you can see two running EC2 instances: Management Server and Temporary Juice FS. Management Server is our head node which we will SSH into to submit jobs. Juice FS is a rapid file system that passes our input and outputs to other instances and buckets."
   ]
  },
  {
   "cell_type": "markdown",
   "id": "fa5cc64f-4d0c-4b75-b863-324868a67d5f",
   "metadata": {},
   "source": [
    "![MemVerge0_mmb11](../../docs/images/memverge_mmb11.png)"
   ]
  },
  {
   "cell_type": "markdown",
   "id": "5212ac8b-7bd6-4930-aed6-69fd1f889656",
   "metadata": {},
   "source": [
    "Check the management instance and then click 'Connect'. Click on the 'SSH client' tab and follow the instruction using your local terminal to SSH into the instance."
   ]
  },
  {
   "cell_type": "markdown",
   "id": "d605ac34-0aac-4458-b8b1-60b77f86b3a9",
   "metadata": {},
   "source": [
    "### Accessing MMBatch Dashboard"
   ]
  },
  {
   "cell_type": "markdown",
   "id": "aaa9a9cc-5b3c-4ecf-93fa-09d0cda73cda",
   "metadata": {},
   "source": [
    "To access the MMBatch dashboard click on the 'Instance ID' of the Management Server instance and copy the public or private IPv4 address. Open new window in your browser and enter in the following URL: `https://REPLACE_WITH_YOUR_IPv4_ADDRESS:8080`. Your webpage may block access if that happens click 'Show details' then select 'Visit this website'. You can now see the MMBatch dashboard!\n",
    "\n",
    "**Note:** NIH user use your private IPv4 address."
   ]
  },
  {
   "cell_type": "markdown",
   "id": "fadfe03d-92a6-42aa-9834-ab22ae556993",
   "metadata": {},
   "source": [
    "The MMBatch dashboard is connected to your AWS Batch job queue and will track jobs that have been submitted, runtimes, cost, and it gives you an estimate for costs using spot instances, and on-demand instances to help you compare cost and understand how much you have saved."
   ]
  },
  {
   "cell_type": "markdown",
   "id": "f2a8d1a7-3096-49f6-b248-6ae70ec638bf",
   "metadata": {},
   "source": [
    "![MemVerge0_mmb12](../../docs/images/memverge_mmb12.png)"
   ]
  },
  {
   "cell_type": "markdown",
   "id": "f70cbd78-3ff3-41fc-9a27-64a38bae3528",
   "metadata": {},
   "source": [
    "### Submitting Jobs to MMBatch using Nextflow"
   ]
  },
  {
   "cell_type": "markdown",
   "id": "6db914ff-b7ec-403d-b6e9-34f38db4cdb7",
   "metadata": {},
   "source": [
    "SSH into the management instance if you haven't already and configure your AWS profile using the command `aws configure`. Enter in your Access Key ID, Secret Access Key, and region (e.g., us-east-1).\n",
    "\n",
    "**Note**: NIH User that have shot term access keys must also enter the command `aws configure set aws_session_token 'REPLACE_WITH_TOKEN'`"
   ]
  },
  {
   "cell_type": "markdown",
   "id": "f3f91f75-d10f-445f-922b-91c337825f92",
   "metadata": {},
   "source": [
    "Download and install Nextflow."
   ]
  },
  {
   "cell_type": "code",
   "execution_count": null,
   "id": "64bc0179-2b15-47f7-8998-7f3d4a295672",
   "metadata": {},
   "outputs": [],
   "source": [
    "#Run if you don't have Java installed\n",
    "sudo apt update\n",
    "sudo apt-get install default-jdk -y\n",
    "java -version"
   ]
  },
  {
   "cell_type": "code",
   "execution_count": null,
   "id": "b8d6dd58-50af-43ec-bc63-983fc78fd337",
   "metadata": {},
   "outputs": [],
   "source": [
    "#Install nexflow, make it exceutable, and update it\n",
    "curl https://get.nextflow.io | bash\n",
    "chmod +x nextflow\n",
    "./nextflow self-update\n",
    "#add nextflow to your path! sudo mv $PWD/nextflow /usr/local/bin/"
   ]
  },
  {
   "cell_type": "markdown",
   "id": "0008f409-a6b5-4071-9e97-0c05584db76a",
   "metadata": {},
   "source": [
    "Next create a Nextflow config file using the following template. To create a file in your terminal try using the command `nano nextflow.config` and copy the template below.\n",
    "\n",
    "You will need the name of your AWS Batch job queue name, which you can locate by navigating to 'Batch' in the console and navigating to 'Job queues' in the left side menu. Enter the name of your job queue for value of 'queue' in the config file.\n",
    "\n",
    "**Note**: To exit our of nano editor do ctrl+X then enter Y."
   ]
  },
  {
   "cell_type": "markdown",
   "id": "45ef0715-d77b-482a-a2fd-aed66b4026a5",
   "metadata": {},
   "source": [
    "```\n",
    "plugins {\n",
    "    id 'nf-amazon'\n",
    "}\n",
    "process {\n",
    "    executor = 'awsbatch'\n",
    "    queue = 'REPLACE_WITH_YOUR_AWS_BATCH_JOB_QUEUE_NAME'\n",
    "    maxRetries = 9\n",
    "    memory = '20G'\n",
    "}\n",
    "\n",
    "process.containerOptions = '--env MMC_CHECKPOINT_DIAGNOSIS=true  --env MMC_CHECKPOINT_MODE=true --env MMC_CHECKPOINT_IMAGE_PATH=/mmc-checkpoint --env MMC_CLOUDWATCH=true'\n",
    "\n",
    "aws {\n",
    "    region = 'us-east-1'\n",
    "    client {\n",
    "    maxConnections = 20\n",
    "    connectionTimeout = 10000\n",
    "    uploadStorageClass = 'INTELLIGENT_TIERING'\n",
    "    storageEncryption = 'AES256'\n",
    "   }\n",
    "    batch {\n",
    "        cliPath = '/nextflow_awscli/bin/aws'\n",
    "        maxTransferAttempts = 3\n",
    "        delayBetweenAttempts = '5 sec'\n",
    "        maxSpotAttemps = 9\n",
    "    }\n",
    "}\n",
    "```\n"
   ]
  },
  {
   "cell_type": "markdown",
   "id": "17925c62-9f62-4556-844c-64eec4164244",
   "metadata": {},
   "source": [
    "Now we can run a Nextflow job! We will be running the rnaseq pipeline provided by nf-core. Enter in the Nextflow command below in your terminal and enter your bucket name in the appropriate fields. You can find the buckets that MMBatch created by using the command `aws s3 ls` to list all your buckets."
   ]
  },
  {
   "cell_type": "code",
   "execution_count": null,
   "id": "c76cce2b-9d5a-4e18-bfb3-29be1e975973",
   "metadata": {},
   "outputs": [],
   "source": [
    "./nextflow run nf-core/rnaseq \\\n",
    "-profile test \\\n",
    "-work-dir 's3://REPLACE WITH YOUR BUCKET NAME/work' \\\n",
    "--outdir 's3://REPLACE WITH YOUR BUCKET NAME/output' \\\n",
    "-c nextflow.config"
   ]
  },
  {
   "cell_type": "markdown",
   "id": "06065826-4257-4742-807e-0b91a86ee376",
   "metadata": {},
   "source": [
    "## Conclusion"
   ]
  },
  {
   "cell_type": "markdown",
   "id": "62f5641d-30ac-4cf5-a416-6ee01cbaa23f",
   "metadata": {},
   "source": [
    "Hurray! In this tutorial you have learned to launch MMBatch via a stack, access the MMBatch dashboard to monitor your jobs, and submit Nextflow jobs to MMBatch."
   ]
  },
  {
   "cell_type": "markdown",
   "id": "c1f547a9-7282-4c72-98e6-e2c89ff68eb6",
   "metadata": {},
   "source": [
    "## Clean Up"
   ]
  },
  {
   "cell_type": "markdown",
   "id": "8ea4eac4-3a9f-4d41-be35-02418129fa73",
   "metadata": {},
   "source": [
    "To do a full delete you can delete the Cloud Formation stack you launch. Otherwise please remember to delete your buckets, compute environment, any unsuccessful jobs via the console, and instances. If you are using any Jupyter notebooks though AWS please ensure that you stop or delete the notebook to avoid accruing costs."
   ]
  }
 ],
 "metadata": {},
 "nbformat": 4,
 "nbformat_minor": 5
}
