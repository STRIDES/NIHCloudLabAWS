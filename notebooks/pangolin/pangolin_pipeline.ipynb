{
 "cells": [
  {
   "cell_type": "markdown",
   "id": "31e8c3cd",
   "metadata": {},
   "source": [
    "# <span style=\"color:gray\">Pangolin SARS-CoV-2 Pipeline Notebook</span>"
   ]
  },
  {
   "cell_type": "markdown",
   "id": "22f95828",
   "metadata": {},
   "source": [
    "## Overview"
   ]
  },
  {
   "cell_type": "markdown",
   "id": "25e25f08",
   "metadata": {},
   "source": [
    "We are going to run a standard covid bioinformatics pipeline using the [Pangolin workflow](https://cov-lineages.org/resources/pangolin/usage.html). We will run the whole analysis within this notebook environment."
   ]
  },
  {
   "cell_type": "markdown",
   "id": "0f67dfae",
   "metadata": {},
   "source": [
    "## Learning Objectives\n",
    "Learn how to run a simple bioinformatic workflow within a Jupyter notebook environment on AWS."
   ]
  },
  {
   "cell_type": "markdown",
   "id": "e7a574ce",
   "metadata": {},
   "source": [
    "## Prerequisites\n",
    "+ You only need access to a Sagemaker environment to run this notebook"
   ]
  },
  {
   "cell_type": "markdown",
   "id": "2881a142",
   "metadata": {},
   "source": [
    "## Get Started"
   ]
  },
  {
   "cell_type": "markdown",
   "id": "03541941",
   "metadata": {},
   "source": [
    "### Install packages and set up environment"
   ]
  },
  {
   "cell_type": "code",
   "execution_count": null,
   "id": "f994b990",
   "metadata": {
    "tags": []
   },
   "outputs": [],
   "source": [
    "import os\n",
    "\n",
    "CPU = os.cpu_count()\n",
    "print(f\"Number of threads available: {CPU}\")\n"
   ]
  },
  {
   "cell_type": "code",
   "execution_count": null,
   "id": "f421805e",
   "metadata": {
    "tags": []
   },
   "outputs": [],
   "source": [
    "# install biopython to import packages below\n",
    "! pip install biopython"
   ]
  },
  {
   "cell_type": "code",
   "execution_count": null,
   "id": "70810fd5",
   "metadata": {},
   "outputs": [],
   "source": [
    "# install mamba\n",
    "! curl -L -O https://github.com/conda-forge/miniforge/releases/latest/download/Mambaforge-$(uname)-$(uname -m).sh\n",
    "! bash Mambaforge-$(uname)-$(uname -m).sh -b -p $HOME/mambaforge"
   ]
  },
  {
   "cell_type": "code",
   "execution_count": null,
   "id": "3379e83c",
   "metadata": {},
   "outputs": [],
   "source": [
    "# add to your path\n",
    "import os\n",
    "os.environ[\"PATH\"] += os.pathsep + os.environ[\"HOME\"]+\"/mambaforge/bin\""
   ]
  },
  {
   "cell_type": "code",
   "execution_count": null,
   "id": "fd936fd6",
   "metadata": {
    "tags": []
   },
   "outputs": [],
   "source": [
    "# install everything else\n",
    "! mamba install -y -c conda-forge -c bioconda sra-tools  pangolin iqtree"
   ]
  },
  {
   "cell_type": "code",
   "execution_count": null,
   "id": "5a99cf0d",
   "metadata": {
    "tags": []
   },
   "outputs": [],
   "source": [
    "#import libraries\n",
    "import os\n",
    "from Bio import SeqIO\n",
    "from Bio import Entrez"
   ]
  },
  {
   "cell_type": "markdown",
   "id": "dc694629",
   "metadata": {},
   "source": [
    "### Set up your directory structure and remove files from previous runs if they exist"
   ]
  },
  {
   "cell_type": "code",
   "execution_count": null,
   "id": "8f831fca",
   "metadata": {
    "tags": []
   },
   "outputs": [],
   "source": [
    "if not os.path.exists('pangolin_analysis'):\n",
    "    os.mkdir('pangolin_analysis')\n",
    "\n",
    "os.chdir('pangolin_analysis')"
   ]
  },
  {
   "cell_type": "code",
   "execution_count": null,
   "id": "6423ca5d",
   "metadata": {
    "tags": []
   },
   "outputs": [],
   "source": [
    "if os.path.exists('sarscov2_sequences.fasta'):\n",
    "    os.remove('sarscov2_sequences.fasta')\n",
    "\n",
    "! rm sarscov2_*\n",
    "! rm lineage_report.csv"
   ]
  },
  {
   "cell_type": "markdown",
   "id": "9d7015e6",
   "metadata": {},
   "source": [
    "### Fetch viral sequences using a list of accession IDs"
   ]
  },
  {
   "cell_type": "code",
   "execution_count": null,
   "id": "16824bcf",
   "metadata": {
    "tags": []
   },
   "outputs": [],
   "source": [
    "#give a list of accession number for sars sequences\n",
    "acc_nums=['NC_045512','LR757995','LR757996','OL698718','OL677199','OL672836','MZ914912','MZ916499','MZ908464','MW580573','MW580574','MW580576','MW991906','MW931310','MW932027','MW424864','MW453109','MW453110']\n",
    "\n",
    "print('the number of sequences we will analyze = ',len(acc_nums))"
   ]
  },
  {
   "cell_type": "markdown",
   "id": "9e382d33",
   "metadata": {},
   "source": [
    "Let this block run without going to the next until it finishes, otherwise you may get an error about too many requests. If that happens, reset your kernel and just rerun everything (except installing software)."
   ]
  },
  {
   "cell_type": "code",
   "execution_count": null,
   "id": "a28a7122",
   "metadata": {
    "tags": []
   },
   "outputs": [],
   "source": [
    "# use the bio.entrez toolkit within biopython to download the accession numbers\n",
    "# save those sequences to a single fasta file\n",
    "Entrez.email = \"email@example.com\"  # ell NCBI who you are\n",
    "\n",
    "filename = \"sarscov2_seqs.fasta\"\n",
    "\n",
    "if not os.path.isfile(filename):\n",
    "    # Downloading...\n",
    "    for acc in acc_nums:\n",
    "        net_handle = Entrez.efetch(\n",
    "            db=\"nucleotide\", id=acc, rettype=\"fasta\", retmode=\"text\"\n",
    "        )\n",
    "        out_handle = open(filename, \"a\")\n",
    "        out_handle.write(net_handle.read())\n",
    "        out_handle.close()\n",
    "        net_handle.close()\n",
    "        print(\"Saved\",acc)"
   ]
  },
  {
   "cell_type": "code",
   "execution_count": null,
   "id": "56acb7cc",
   "metadata": {
    "tags": []
   },
   "outputs": [],
   "source": [
    "# make sure our fasta file has the same number of seqs as the acc_nums list\n",
    "\n",
    "print('the number of seqs in our fasta file: ')\n",
    "\n",
    "! grep '>' sarscov2_seqs.fasta | wc -l"
   ]
  },
  {
   "cell_type": "code",
   "execution_count": null,
   "id": "8606c352",
   "metadata": {
    "tags": []
   },
   "outputs": [],
   "source": [
    "# let's peek at our new fasta file\n",
    "! head sarscov2_seqs.fasta"
   ]
  },
  {
   "cell_type": "markdown",
   "id": "2db37b4e",
   "metadata": {
    "tags": []
   },
   "source": [
    "### Run pangolin to identify lineages and output alignment\n",
    "Here we call pangolin, give it our input sequences and the number of threads. We also tell it to output the alignment. The full list of pangolin parameters can be found in the pangolin [docs](https://cov-lineages.org/resources/pangolin/usage.html)."
   ]
  },
  {
   "cell_type": "code",
   "execution_count": null,
   "id": "f1a17a74",
   "metadata": {
    "tags": []
   },
   "outputs": [],
   "source": [
    "! pangolin ./pangolin_analysis/sarscov2_seqs.fasta --threads $CPU"
   ]
  },
  {
   "cell_type": "markdown",
   "id": "b0e56a4b",
   "metadata": {},
   "source": [
    "You can view the output file from pangolin called lineage_report.csv (within pangolin_analysis folder) by double clicking on the file, or by right clicking and downloading. What lineages are present in the dataset? Is Omicron in there?"
   ]
  },
  {
   "cell_type": "markdown",
   "id": "37e6efbe",
   "metadata": {},
   "source": [
    "### Run iqtree to estimate maximum likelihood tree for our sequences\n",
    "iqtree can find the best nucleotide model for the data, but here we are going to assign a model to save time (HKY) and just estimate the phylogeny without any bootstrap support values. "
   ]
  },
  {
   "cell_type": "code",
   "execution_count": null,
   "id": "f2782855",
   "metadata": {
    "tags": []
   },
   "outputs": [],
   "source": [
    "# run iqtree with threads = $CPU variable.\n",
    "# if you exclude the -m it will do a phylogenetic model search before tree search\n",
    "! iqtree -s sequences.aln.fasta -nt $CPU -m HKY --prefix sarscov2_tree --redo-tree"
   ]
  },
  {
   "cell_type": "markdown",
   "id": "c7197dd4",
   "metadata": {},
   "source": [
    "### Download the tree and view in tree viewer like [FigTree](http://tree.bio.ed.ac.uk/software/figtree/)! "
   ]
  },
  {
   "cell_type": "markdown",
   "id": "7a5b8a1b",
   "metadata": {},
   "source": [
    "### Conclusions\n",
    "That's it! Now you know how to run a simple workflow using a Sagemaker notebook environment"
   ]
  },
  {
   "cell_type": "markdown",
   "id": "88457512",
   "metadata": {},
   "source": [
    "## Clean up\n",
    "Make sure you shut down this VM, or delete it if you don't plan to use if further.\n",
    "\n",
    "You can also [delete the buckets](https://docs.aws.amazon.com/AmazonS3/latest/userguide/delete-bucket.html) if you don't want to pay for the data: `aws s3 rb s3://bucket-name --force`"
   ]
  },
  {
   "cell_type": "markdown",
   "id": "4eb73656",
   "metadata": {},
   "source": []
  }
 ],
 "metadata": {
  "environment": {
   "kernel": "python3",
   "name": "r-cpu.4-1.m87",
   "type": "gcloud",
   "uri": "gcr.io/deeplearning-platform-release/r-cpu.4-1:m87"
  },
  "kernelspec": {
   "display_name": "Python 3",
   "language": "python",
   "name": "python3"
  },
  "language_info": {
   "codemirror_mode": {
    "name": "ipython",
    "version": 3
   },
   "file_extension": ".py",
   "mimetype": "text/x-python",
   "name": "python",
   "nbconvert_exporter": "python",
   "pygments_lexer": "ipython3",
   "version": "3.9.6"
  }
 },
 "nbformat": 4,
 "nbformat_minor": 5
}
