{
 "cells": [
  {
   "cell_type": "markdown",
   "id": "cbeb803c",
   "metadata": {},
   "source": [
    "# Download sequence data from the NCBI Sequence Read Archive (SRA)"
   ]
  },
  {
   "cell_type": "markdown",
   "id": "63c89edc",
   "metadata": {},
   "source": [
    "## Overview\n",
    "\n",
    "DNA sequence data are typically deposited into the NCBI Sequence Read Archive, and can be accessed through the SRA website, or via command line tools called SRA Toolkit. Individual sequence entries are assigned an Accession ID, which can be used to find and download a particular file. For example, if you go to the [SRA database](https://www.ncbi.nlm.nih.gov/sra) in a browser window, and search for `SRX15695630`, you should see an entry for _C. elegans_. Here we are going to use one tool from the SRA Toolkit called Fasterq-dump to download a few fastq files, and then do the same thing with a wrapper package called [ipyrad-analysis toolkit](https://ipyrad.readthedocs.io/en/latest/API-analysis/index.html). Finally, we show you how to copy data in directly from an SRA S3 bucket."
   ]
  },
  {
   "cell_type": "markdown",
   "id": "874014c7",
   "metadata": {},
   "source": [
    "### 1) Download SRA data using SRA Toolkit"
   ]
  },
  {
   "cell_type": "markdown",
   "id": "063672f0",
   "metadata": {},
   "source": [
    "First, install dependencies, including mamba (you could also use conda)"
   ]
  },
  {
   "cell_type": "code",
   "execution_count": null,
   "id": "37b50706",
   "metadata": {},
   "outputs": [],
   "source": [
    "!curl -L -O https://github.com/conda-forge/miniforge/releases/latest/download/Mambaforge-$(uname)-$(uname -m).sh\n",
    "!bash Mambaforge-$(uname)-$(uname -m).sh -b -p $HOME/mambaforge"
   ]
  },
  {
   "cell_type": "code",
   "execution_count": null,
   "id": "6bee6c4d",
   "metadata": {},
   "outputs": [],
   "source": [
    "!~/mambaforge/bin/mamba install -c bioconda -c conda-forge sra-tools==2.11.0 ipyrad -y"
   ]
  },
  {
   "cell_type": "markdown",
   "id": "254afb8a",
   "metadata": {},
   "source": [
    "Test that your install works and that fasterq-dump is available in your path"
   ]
  },
  {
   "cell_type": "code",
   "execution_count": null,
   "id": "5a5f7c20",
   "metadata": {},
   "outputs": [],
   "source": [
    "!fasterq-dump -h"
   ]
  },
  {
   "cell_type": "markdown",
   "id": "cad0b02b",
   "metadata": {},
   "source": [
    "Set up your directory structure for the raw fastq data"
   ]
  },
  {
   "cell_type": "code",
   "execution_count": null,
   "id": "a3a032e0",
   "metadata": {},
   "outputs": [],
   "source": [
    "cd ~/SageMaker/"
   ]
  },
  {
   "cell_type": "code",
   "execution_count": null,
   "id": "dd34d4e3",
   "metadata": {},
   "outputs": [],
   "source": [
    "!mkdir -p data\n",
    "!mkdir -p data/raw_fastq-fasterq-dump\n",
    "!mkdir -p data/raw_fastq-ipyrad"
   ]
  },
  {
   "cell_type": "code",
   "execution_count": null,
   "id": "26928f66",
   "metadata": {},
   "outputs": [],
   "source": [
    "cd data/raw_fastq-fasterq-dump"
   ]
  },
  {
   "cell_type": "markdown",
   "id": "0d90065e",
   "metadata": {},
   "source": [
    "Now we need a list of accession IDs to download. You can find these from papers or from searching SRA directly. Here we are going to use sequence data from Cushman et al., <em><a href='https://www.ncbi.nlm.nih.gov/pmc/articles/PMC8191103/'>Increased whiB7 expression and antibiotic resistance in Mycobacterium chelonae carrying two prophages</a><em>. The next cell will generate a text file with three accession numbers. The fastq files are pretty big, so make sure you have at least 100 GB of EBS storage on this instance."
   ]
  },
  {
   "cell_type": "code",
   "execution_count": null,
   "id": "de7c6804",
   "metadata": {},
   "outputs": [],
   "source": [
    "!for i in {22..23}; do echo \"SRR133491$i\"; done > list_of_accesionIDS.txt\n",
    "!cat list_of_accesionIDS.txt"
   ]
  },
  {
   "cell_type": "markdown",
   "id": "64eacb0a",
   "metadata": {},
   "source": [
    "SRA Tools doesn't run in batch mode, so one way to run a command on multiple samples is by using a simple for loop. Once you run the following cell, it will take about 15 min to finish downloading the three samples. "
   ]
  },
  {
   "cell_type": "code",
   "execution_count": null,
   "id": "9335be46",
   "metadata": {},
   "outputs": [],
   "source": [
    "!for x in `cat list_of_accesionIDS.txt`; do fasterq-dump $x; done"
   ]
  },
  {
   "cell_type": "markdown",
   "id": "fccb406f",
   "metadata": {},
   "source": [
    "### 2) Download SRA data using ipyrad-analysis toolkit"
   ]
  },
  {
   "cell_type": "code",
   "execution_count": null,
   "id": "640abdda",
   "metadata": {},
   "outputs": [],
   "source": [
    "import ipyrad.analysis as ipa"
   ]
  },
  {
   "cell_type": "markdown",
   "id": "6d99dc78",
   "metadata": {},
   "source": [
    "From an sratools object you can fetch just the info, or you can download the files as well. Here we call `.run()` to download the data into a designated workdir. There are arguments for how to name the files according to name fields in the fetch_runinfo table. The accessions argument here is a list of the SRR numbers. You could also write to a list from a text file. Here we will download three fastq files of SARS-CoV-2, it will run pretty quickly."
   ]
  },
  {
   "cell_type": "code",
   "execution_count": null,
   "id": "57c83118",
   "metadata": {},
   "outputs": [],
   "source": [
    "cd /home/ec2-user/SageMaker/data/raw_fastq-ipyrad"
   ]
  },
  {
   "cell_type": "code",
   "execution_count": null,
   "id": "2d3c6f4f",
   "metadata": {},
   "outputs": [],
   "source": [
    "list_of_srrs = ['SRR14086881','SRR14086882','SRR14086883']"
   ]
  },
  {
   "cell_type": "code",
   "execution_count": null,
   "id": "a548f1a9",
   "metadata": {},
   "outputs": [],
   "source": [
    "# new sra object\n",
    "sra2 = ipa.sratools(accessions=list_of_srrs, workdir=\".\")\n",
    "\n",
    "# call download (run) function\n",
    "sra2.run(auto=True, name_fields=(1,30))"
   ]
  },
  {
   "cell_type": "markdown",
   "id": "d3abdc18",
   "metadata": {},
   "source": [
    "### Check the data files\n",
    "You can see that the files were named according to the SRR and species name in the table. The intermediate .sra files were removed and only the fastq files were saved. "
   ]
  },
  {
   "cell_type": "code",
   "execution_count": null,
   "id": "0b1bee94",
   "metadata": {},
   "outputs": [],
   "source": [
    "#you can also navigate in the menu on the left\n",
    "!ls -l downloaded"
   ]
  },
  {
   "cell_type": "code",
   "execution_count": null,
   "id": "7d710d95",
   "metadata": {},
   "outputs": [],
   "source": [
    "#now copy the data back to a cloud bucket for future use\n",
    "!aws s3 cp SRR14086881_MSHSPSP-RNP263.fastq s3://<bucket-name>"
   ]
  },
  {
   "cell_type": "markdown",
   "id": "65a92454",
   "metadata": {},
   "source": [
    "### 3) Copy directly from S3\n",
    "SRA data is now housed on AWS and GCP, and you can directly download from cloud buckets using aws CLI! Data is organized in buckets by run ID rather than Accession, so to find the run ID, go to the [SRA Run Selector](https://www.ncbi.nlm.nih.gov/Traces/study/) and then search for your Accession number to find the right Run ID. There are a few buckets that are public and you can read about them all [here](https://www.ncbi.nlm.nih.gov/sra/docs/sra-aws-download/#:~:text=SRA%20Data%20in%20the%20AWS%20Registry%20of%20Open%20Data,-Amazon%20Web%20Services&text=SRA%20has%20several%20datasets%20in,value%20and%20newly%2Dreleased%20studies.).\n",
    "\n",
    "We recommend that before you go on a wild goose chase for the s3 path of your run ID, go to [this bucket](https://s3.console.aws.amazon.com/s3/buckets/sra-pub-run-odp?region=us-east-1&prefix=sra/&showversions=false) and search for your run ID. For example, let's say we were interested in Run ID = DRR000001. We can then run the following command to copy those data into our instance. Some files have a direct link to the Fastq or BAM files, but usually on S3 it is just the sra files. You will need to use fastq-dump to convert to fastq. We show you how below."
   ]
  },
  {
   "cell_type": "code",
   "execution_count": null,
   "id": "f6405b12",
   "metadata": {},
   "outputs": [],
   "source": [
    "!aws s3 cp s3://sra-pub-run-odp/sra/DRR000001/DRR000001 ."
   ]
  },
  {
   "cell_type": "code",
   "execution_count": null,
   "id": "c2a640ee",
   "metadata": {},
   "outputs": [],
   "source": [
    "!fastq-dump DRR000001"
   ]
  },
  {
   "cell_type": "code",
   "execution_count": null,
   "id": "8e7e307b",
   "metadata": {},
   "outputs": [],
   "source": [
    "ls DRR000001*"
   ]
  }
 ],
 "metadata": {
  "kernelspec": {
   "display_name": "conda_mxnet_latest_p37",
   "language": "python",
   "name": "conda_mxnet_latest_p37"
  },
  "language_info": {
   "codemirror_mode": {
    "name": "ipython",
    "version": 3
   },
   "file_extension": ".py",
   "mimetype": "text/x-python",
   "name": "python",
   "nbconvert_exporter": "python",
   "pygments_lexer": "ipython3",
   "version": "3.7.10"
  }
 },
 "nbformat": 4,
 "nbformat_minor": 5
}
