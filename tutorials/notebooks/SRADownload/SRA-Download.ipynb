{
 "cells": [
  {
   "cell_type": "markdown",
   "id": "1651316c",
   "metadata": {},
   "source": [
    "# Download sequence data from the NCBI Sequence Read Archive (SRA)"
   ]
  },
  {
   "cell_type": "markdown",
   "id": "15022f97",
   "metadata": {},
   "source": [
    "## Overview\n",
    "\n",
    "DNA sequence data are typically deposited into the NCBI Sequence Read Archive, and can be accessed through the SRA website, or via command line tools called SRA Toolkit. Individual sequence entries are assigned an Accession ID, which can be used to find and download a particular file. For example, if you go to the [SRA database](https://www.ncbi.nlm.nih.gov/sra) in a browser window, and search for `SRX15695630`, you should see an entry for _C. elegans_. Here we are going to use one tool from the SRA Toolkit called Fasterq-dump to download a few fastq files, and then do the same thing with a wrapper package called [ipyrad-analysis toolkit](https://ipyrad.readthedocs.io/en/latest/API-analysis/index.html)."
   ]
  },
  {
   "cell_type": "markdown",
   "id": "3b500763",
   "metadata": {},
   "source": [
    "### 1) Download SRA data using SRA Toolkit"
   ]
  },
  {
   "cell_type": "markdown",
   "id": "01213dae",
   "metadata": {},
   "source": [
    "First, install dependencies, including mamba (you could also use conda)"
   ]
  },
  {
   "cell_type": "code",
   "execution_count": null,
   "id": "2fd7a16a",
   "metadata": {},
   "outputs": [],
   "source": [
    "!curl -L -O https://github.com/conda-forge/miniforge/releases/latest/download/Mambaforge-$(uname)-$(uname -m).sh\n",
    "!bash Mambaforge-$(uname)-$(uname -m).sh -b -p $HOME/mambaforge"
   ]
  },
  {
   "cell_type": "code",
   "execution_count": null,
   "id": "8f7e349b",
   "metadata": {},
   "outputs": [],
   "source": [
    "!~/mambaforge/bin/mamba install -c bioconda -c conda-forge sra-tools==2.11.0 ipyrad -y"
   ]
  },
  {
   "cell_type": "markdown",
   "id": "b8c010c2",
   "metadata": {},
   "source": [
    "Test that your install works and that fasterq-dump is available in your path"
   ]
  },
  {
   "cell_type": "code",
   "execution_count": null,
   "id": "6e507538",
   "metadata": {},
   "outputs": [],
   "source": [
    "!fasterq-dump -h"
   ]
  },
  {
   "cell_type": "markdown",
   "id": "f94e4215",
   "metadata": {},
   "source": [
    "Set up your directory structure for the raw fastq data"
   ]
  },
  {
   "cell_type": "code",
   "execution_count": 1,
   "id": "575d849c",
   "metadata": {},
   "outputs": [
    {
     "name": "stdout",
     "output_type": "stream",
     "text": [
      "/home/ec2-user/SageMaker\n"
     ]
    }
   ],
   "source": [
    "cd ~/SageMaker/"
   ]
  },
  {
   "cell_type": "code",
   "execution_count": null,
   "id": "48e335e9",
   "metadata": {},
   "outputs": [],
   "source": [
    "!mkdir -p data\n",
    "!mkdir -p data/raw_fastq-fasterq-dump\n",
    "!mkdir -p data/raw_fastq-ipyrad"
   ]
  },
  {
   "cell_type": "code",
   "execution_count": 2,
   "id": "21894683",
   "metadata": {},
   "outputs": [
    {
     "name": "stdout",
     "output_type": "stream",
     "text": [
      "/home/ec2-user/SageMaker/data/raw_fastq-fasterq-dump\n"
     ]
    }
   ],
   "source": [
    "cd data/raw_fastq-fasterq-dump"
   ]
  },
  {
   "cell_type": "markdown",
   "id": "6520dd16",
   "metadata": {},
   "source": [
    "Now we need a list of accession IDs to download. You can find these from papers or from searching SRA directly. Here we are going to use sequence data from Cushman et al., <em><a href='https://www.ncbi.nlm.nih.gov/pmc/articles/PMC8191103/'>Increased whiB7 expression and antibiotic resistance in Mycobacterium chelonae carrying two prophages</a><em>. The next cell will generate a text file with three accession numbers. The fastq files are pretty big, so make sure you have at least 100 GB of EBS storage on this instance."
   ]
  },
  {
   "cell_type": "code",
   "execution_count": null,
   "id": "d214a181",
   "metadata": {},
   "outputs": [],
   "source": [
    "!for i in {22..23}; do echo \"SRR133491$i\"; done > list_of_accesionIDS.txt\n",
    "!cat list_of_accesionIDS.txt"
   ]
  },
  {
   "cell_type": "markdown",
   "id": "ea5f7b67",
   "metadata": {},
   "source": [
    "SRA Tools doesn't run in batch mode, so one way to run a command on multiple samples is by using a simple for loop. Once you run the following cell, it will take about 15 min to finish downloading the three samples. "
   ]
  },
  {
   "cell_type": "code",
   "execution_count": null,
   "id": "96307376",
   "metadata": {},
   "outputs": [],
   "source": [
    "!for x in `cat list_of_accesionIDS.txt`; do fasterq-dump $x; done"
   ]
  },
  {
   "cell_type": "markdown",
   "id": "de3834e8",
   "metadata": {},
   "source": [
    "### 2) Download SRA data using ipyrad-analysis toolkit"
   ]
  },
  {
   "cell_type": "code",
   "execution_count": 7,
   "id": "f83db4d5",
   "metadata": {},
   "outputs": [],
   "source": [
    "import ipyrad.analysis as ipa"
   ]
  },
  {
   "cell_type": "markdown",
   "id": "2e329cb7",
   "metadata": {},
   "source": [
    "From an sratools object you can fetch just the info, or you can download the files as well. Here we call `.run()` to download the data into a designated workdir. There are arguments for how to name the files according to name fields in the fetch_runinfo table. The accessions argument here is a list of the SRR numbers. You could also write to a list from a text file. Here we will download three fastq files of SARS-CoV-2, it will run pretty quickly."
   ]
  },
  {
   "cell_type": "code",
   "execution_count": 4,
   "id": "e6144fe7",
   "metadata": {},
   "outputs": [
    {
     "name": "stdout",
     "output_type": "stream",
     "text": [
      "/home/ec2-user/SageMaker/data/raw_fastq-ipyrad\n"
     ]
    }
   ],
   "source": [
    "cd /home/ec2-user/SageMaker/data/raw_fastq-ipyrad"
   ]
  },
  {
   "cell_type": "code",
   "execution_count": 5,
   "id": "f70ac8e2",
   "metadata": {},
   "outputs": [],
   "source": [
    "list_of_srrs = ['SRR14086881','SRR14086882','SRR14086883']"
   ]
  },
  {
   "cell_type": "code",
   "execution_count": null,
   "id": "12c72cd2",
   "metadata": {},
   "outputs": [],
   "source": [
    "# new sra object\n",
    "sra2 = ipa.sratools(accessions=list_of_srrs, workdir=\".\")\n",
    "\n",
    "# call download (run) function\n",
    "sra2.run(auto=True, name_fields=(1,30))"
   ]
  },
  {
   "cell_type": "markdown",
   "id": "6d1022de",
   "metadata": {},
   "source": [
    "### Check the data files\n",
    "You can see that the files were named according to the SRR and species name in the table. The intermediate .sra files were removed and only the fastq files were saved. "
   ]
  },
  {
   "cell_type": "code",
   "execution_count": 9,
   "id": "1a9252b6",
   "metadata": {},
   "outputs": [
    {
     "name": "stdout",
     "output_type": "stream",
     "text": [
      "total 1805672\n",
      "-rw-rw-r-- 1 ec2-user ec2-user   8061074 Jun 15 14:49 SRR14086881_MSHSPSP-RNP263.fastq\n",
      "-rw-rw-r-- 1 ec2-user ec2-user 881967690 Jun 15 14:49 SRR14086882_MSHSPSP-RNP134.fastq\n",
      "-rw-rw-r-- 1 ec2-user ec2-user 958961950 Jun 15 14:49 SRR14086883_MSHSPSP-RNP095.fastq\n"
     ]
    }
   ],
   "source": [
    "#you can also navigate in the menu on the left\n",
    "!ls -l downloaded"
   ]
  },
  {
   "cell_type": "code",
   "execution_count": 10,
   "id": "6c49a92d",
   "metadata": {},
   "outputs": [
    {
     "name": "stdout",
     "output_type": "stream",
     "text": [
      "/bin/sh: -c: line 0: syntax error near unexpected token `newline'\n",
      "/bin/sh: -c: line 0: `aws s3 cp SRR14086881_MSHSPSP-RNP263.fastq s3://<bucket-name>'\n"
     ]
    }
   ],
   "source": [
    "#now copy the data back to a cloud bucket for future use\n",
    "!aws s3 cp SRR14086881_MSHSPSP-RNP263.fastq s3://<bucket-name>"
   ]
  }
 ],
 "metadata": {
  "kernelspec": {
   "display_name": "conda_mxnet_latest_p37",
   "language": "python",
   "name": "conda_mxnet_latest_p37"
  },
  "language_info": {
   "codemirror_mode": {
    "name": "ipython",
    "version": 3
   },
   "file_extension": ".py",
   "mimetype": "text/x-python",
   "name": "python",
   "nbconvert_exporter": "python",
   "pygments_lexer": "ipython3",
   "version": "3.7.10"
  }
 },
 "nbformat": 4,
 "nbformat_minor": 5
}
